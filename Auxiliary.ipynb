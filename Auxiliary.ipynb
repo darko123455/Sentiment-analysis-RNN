{
 "cells": [
  {
   "cell_type": "code",
   "execution_count": 21,
   "metadata": {},
   "outputs": [],
   "source": [
    "import pandas as pd\n",
    "import tensorflow as tf\n",
    "from sklearn.preprocessing import LabelBinarizer\n",
    "from keras.preprocessing.sequence import pad_sequences\n",
    "from sklearn.metrics import precision_score\n",
    "from sklearn.metrics import f1_score\n",
    "from sklearn.metrics import recall_score\n",
    "from sklearn.metrics import confusion_matrix\n",
    "import sklearn.metrics as skm\n",
    "import pandas as pd\n",
    "import numpy as np\n",
    "import matplotlib.pyplot as plt"
   ]
  },
  {
   "cell_type": "code",
   "execution_count": 22,
   "metadata": {},
   "outputs": [],
   "source": [
    "df = pd.read_csv('emotions_dataset.csv')"
   ]
  },
  {
   "cell_type": "code",
   "execution_count": 23,
   "metadata": {},
   "outputs": [
    {
     "name": "stdout",
     "output_type": "stream",
     "text": [
      "Prebrojene emocije {'sadness': 6265, 'anger': 2993, 'love': 1641, 'surprise': 879, 'fear': 2652, 'happy': 7029}\n"
     ]
    }
   ],
   "source": [
    "mapa = {}\n",
    "for row in df.itertuples():\n",
    "    mapa[row[2]] = 0\n",
    "for row in df.itertuples():\n",
    "    mapa[row[2]] = mapa[row[2]] + 1\n",
    "print ('Emotion count', mapa)"
   ]
  },
  {
   "cell_type": "code",
   "execution_count": 26,
   "metadata": {},
   "outputs": [],
   "source": [
    "def model_evaluation(X_test, y_test, model, columns, word_index, emotion_list):\n",
    "    y_pred = model.predict(X_test)\n",
    "    y_pred1 = np.argmax(y_pred)\n",
    "#     print('Shape X_test', X_test.shape)\n",
    "#     print('Shape y_test', y_test.shape)\n",
    "#     print('Shape y_pred', y_pred.shape)\n",
    "#     print('Precision score: %.3f' % precision_score(y_true=y_test1, y_pred = y_pred1))\n",
    "#     print('Recall score: %.3f' % recall_score(y_true=y_test1, y_pred = y_pred1))\n",
    "#     print('F1 score: %.3f\\n\\n' % f1_score(y_true=y_test1, y_pred = y_pred1))\n",
    "    \n",
    "    \n",
    "#     dummies_pred = pd.get_dummies(columns)\n",
    "    \n",
    "    y_test = pd.get_dummies(y_test)\n",
    "    y_pred = pd.DataFrame(data=y_pred, columns=columns)\n",
    "    y_test = pd.DataFrame(data=y_test, columns=columns)\n",
    "    y_pred = y_pred.idxmax(axis=1)\n",
    "    y_test = y_test.idxmax(axis=1)\n",
    "\n",
    "    conf_mat = confusion_matrix(y_true=y_test, y_pred=y_pred, labels = emotion_list)\n",
    "    print(\"Confusion matrix\")\n",
    "    print(conf_mat)"
   ]
  },
  {
   "cell_type": "code",
   "execution_count": null,
   "metadata": {},
   "outputs": [],
   "source": []
  }
 ],
 "metadata": {
  "kernelspec": {
   "display_name": "Python 3",
   "language": "python",
   "name": "python3"
  },
  "language_info": {
   "codemirror_mode": {
    "name": "ipython",
    "version": 3
   },
   "file_extension": ".py",
   "mimetype": "text/x-python",
   "name": "python",
   "nbconvert_exporter": "python",
   "pygments_lexer": "ipython3",
   "version": "3.6.9"
  }
 },
 "nbformat": 4,
 "nbformat_minor": 2
}
