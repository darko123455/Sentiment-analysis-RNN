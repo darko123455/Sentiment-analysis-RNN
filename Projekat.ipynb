{
 "cells": [
  {
   "cell_type": "code",
   "execution_count": 1,
   "metadata": {},
   "outputs": [],
   "source": [
    "import pandas as pd\n",
    "import numpy as np\n",
    "from collections import Counter\n",
    "from string import punctuation\n",
    "import sys"
   ]
  },
  {
   "cell_type": "markdown",
   "metadata": {},
   "source": [
    "Pretprocesiranje"
   ]
  },
  {
   "cell_type": "code",
   "execution_count": 2,
   "metadata": {},
   "outputs": [],
   "source": [
    "df = pd.read_csv('emotions_dataset.csv')\n",
    "\n",
    "for text in df['Text']:\n",
    "    text = text.lower()"
   ]
  },
  {
   "cell_type": "code",
   "execution_count": 21,
   "metadata": {},
   "outputs": [
    {
     "name": "stdout",
     "output_type": "stream",
     "text": [
      "emotion_map:  {'surprise': 0, 'sadness': 1, 'anger': 2, 'happy': 3, 'love': 4, 'fear': 5}\n",
      "Emotion count {'sadness': 6265, 'anger': 2993, 'love': 1641, 'surprise': 879, 'fear': 2652, 'happy': 7029}\n"
     ]
    }
   ],
   "source": [
    "emotion_set = (set(df['Emotion'][:]))\n",
    "emotion_map = {}\n",
    "\n",
    "i = 0;\n",
    "for emotion in emotion_set: \n",
    "    emotion_map[emotion] = i\n",
    "    i = i+1;    \n",
    "\n",
    "del i\n",
    "  \n",
    "df['Emotion'] = df['Emotion'].map(emotion_map)\n",
    "\n",
    "print (\"emotion_map: \", emotion_map)\n",
    "df.head(5)\n",
    "\n",
    "%run Auxiliary.ipynb"
   ]
  },
  {
   "cell_type": "code",
   "execution_count": 4,
   "metadata": {},
   "outputs": [],
   "source": [
    "#We are counting frequenceies of all words\n",
    "counts = Counter();\n",
    "\n",
    "for num, text in enumerate(df['Text']):\n",
    "    tmp_text = \"\".join([c if c not in punctuation else ' ' + c + ' ' for c in text])\n",
    "    df.loc[num, 'Text'] = tmp_text\n",
    "    counts.update(tmp_text.split())\n",
    "    \n",
    "word_counts = sorted(counts, key = counts.get, reverse = True)\n",
    "word_to_int = {word : i for i, word in enumerate(word_counts, 1)}"
   ]
  },
  {
   "cell_type": "code",
   "execution_count": 5,
   "metadata": {},
   "outputs": [],
   "source": [
    "mapped_texts = []\n",
    "for text in df['Text']:\n",
    "    tmp_l = []\n",
    "    for word in text.split():\n",
    "        try:\n",
    "            tmp_l.append(word_to_int[word])\n",
    "        except:\n",
    "            print(\"Rec koju ne mogu da prepoznam je \", word)\n",
    "            sys.exit()\n",
    "            \n",
    "            \n",
    "    mapped_texts.append(tmp_l)"
   ]
  },
  {
   "cell_type": "code",
   "execution_count": 6,
   "metadata": {},
   "outputs": [
    {
     "name": "stdout",
     "output_type": "stream",
     "text": [
      "66\n"
     ]
    }
   ],
   "source": [
    "#We set sequence_length to a number we preffer out model to train text messages by.\n",
    "#If we set sequence_length to 50 then model will truncate all texts to fit.\n",
    "sequence_length = 0\n",
    "for seq in mapped_texts:\n",
    "    sequence_length = max(sequence_length, len(seq))\n",
    "print(sequence_length)"
   ]
  },
  {
   "cell_type": "code",
   "execution_count": 7,
   "metadata": {},
   "outputs": [
    {
     "name": "stdout",
     "output_type": "stream",
     "text": [
      "We transformed  [1, 148, 2, 670]  into => \n",
      " [  0   0   0   0   0   0   0   0   0   0   0   0   0   0   0   0   0   0\n",
      "   0   0   0   0   0   0   0   0   0   0   0   0   0   0   0   0   0   0\n",
      "   0   0   0   0   0   0   0   0   0   0   0   0   0   0   0   0   0   0\n",
      "   0   0   0   0   0   0   0   0   1 148   2 670]\n"
     ]
    }
   ],
   "source": [
    "#Now we create sequences of same length\n",
    "sequences = np.zeros((len(mapped_texts), sequence_length), dtype = int)\n",
    "\n",
    "for i, row in enumerate(mapped_texts):\n",
    "    text_arr = np.array(row)\n",
    "    sequences[i, -len(row):] = text_arr[-sequence_length :]\n",
    "\n",
    "print(\"We transformed \", mapped_texts[0], \" into => \\n\", sequences[0])"
   ]
  },
  {
   "cell_type": "code",
   "execution_count": 54,
   "metadata": {},
   "outputs": [
    {
     "name": "stdout",
     "output_type": "stream",
     "text": [
      "(15000, 66)\n",
      "(15000, 6)\n",
      "66\n"
     ]
    }
   ],
   "source": [
    "#21459 samples in the dataset. We split the data into training and test set\n",
    "X_train = sequences[:15000, :]\n",
    "y_train = df.loc[:14999, 'Emotion'].values\n",
    "y_train = pd.get_dummies(y_train)\n",
    "X_test = sequences[15000:, :]\n",
    "y_test = df.loc[15000:, 'Emotion'].values\n",
    "print(X_train.shape)\n",
    "print(y_train.shape)\n",
    "print(sequence_length)"
   ]
  },
  {
   "cell_type": "code",
   "execution_count": 9,
   "metadata": {},
   "outputs": [],
   "source": [
    "import tensorflow as tf\n",
    "from tensorflow import keras\n",
    "from tensorflow.keras import layers\n",
    "from tensorflow.keras.models import Sequential\n",
    "from tensorflow.keras.layers import BatchNormalization\n",
    "from tensorflow.keras.layers import LeakyReLU\n",
    "from tensorflow.keras.layers import Embedding, concatenate\n",
    "from tensorflow.keras.layers import Conv1D\n",
    "from tensorflow.keras.layers import MaxPooling1D\n",
    "from tensorflow.keras.layers import Dropout\n",
    "from tensorflow.keras.layers import Flatten\n",
    "from tensorflow.keras.layers import Input\n",
    "from tensorflow.keras.layers import InputLayer\n",
    "from tensorflow.keras.layers import Dense, SpatialDropout1D\n",
    "from tensorflow.keras.layers import Bidirectional\n",
    "from tensorflow.keras.layers import LSTM\n",
    "from tensorflow.keras.layers import GRU\n",
    "from tensorflow.keras import Model\n",
    "from tensorflow.keras.layers import GlobalMaxPooling1D, GlobalAveragePooling1D\n",
    "from tensorflow.keras.optimizers import Adam\n",
    "from tensorflow.keras.optimizers import Adadelta\n",
    "import sklearn.metrics as skm\n",
    "import pandas as pd\n",
    "import numpy as np"
   ]
  },
  {
   "cell_type": "code",
   "execution_count": 10,
   "metadata": {},
   "outputs": [],
   "source": [
    "def create_cnn_lstm_model(max_words):\n",
    "    model = Sequential()\n",
    "    model.add(InputLayer(input_shape=(66,)))\n",
    "    model.add(Embedding(len(max_words)+1, 6))\n",
    "    model.add(SpatialDropout1D(0.2))\n",
    "    model.add(Bidirectional(LSTM(100, recurrent_activation=\"sigmoid\",\n",
    "                    activation='tanh',\n",
    "                    unroll = False,\n",
    "                    dropout = 0.3,\n",
    "                    use_bias = True,\n",
    "                    return_sequences = True,\n",
    "                    recurrent_dropout = 0)))\n",
    "\n",
    "#     model.add(Conv1D(128, kernel_size = 8, padding = \"same\"))\n",
    "#     model.add(LeakyReLU(0.08))\n",
    "#     model.add(MaxPooling1D(4))\n",
    "#     model.add(Dropout(0.5))\n",
    "\n",
    "    model.add(Conv1D(256, kernel_size = 8, padding = \"same\"))\n",
    "    model.add(LeakyReLU(0.08))\n",
    "    model.add(MaxPooling1D(4))\n",
    "    model.add(Dropout(0.5))\n",
    "\n",
    "    model.add(Conv1D(512, kernel_size = 8, padding = \"same\"))\n",
    "    model.add(LeakyReLU(0.08))\n",
    "    model.add(MaxPooling1D(3))\n",
    "    model.add(Dropout(0.5))\n",
    "\n",
    "    model.add(Conv1D(512, kernel_size = 8, padding = \"same\"))\n",
    "    model.add(LeakyReLU(0.08))\n",
    "    model.add(MaxPooling1D(3))\n",
    "    model.add(Dropout(0.5))\n",
    "    \n",
    "    model.add(GlobalMaxPooling1D())\n",
    "\n",
    "    model.add(Dense(256))\n",
    "    model.add(LeakyReLU(0.08))\n",
    "    \n",
    "    model.add(Dense(128))\n",
    "    model.add(LeakyReLU(0.08))\n",
    "    model.add(Dense(6, activation='softmax'))\n",
    "    \n",
    "    model.compile(loss='categorical_crossentropy',optimizer=Adam(lr=0.0004),metrics=['acc'])\n",
    "    model.summary()\n",
    "    return model"
   ]
  },
  {
   "cell_type": "code",
   "execution_count": 11,
   "metadata": {},
   "outputs": [
    {
     "name": "stdout",
     "output_type": "stream",
     "text": [
      "Model: \"sequential\"\n",
      "_________________________________________________________________\n",
      "Layer (type)                 Output Shape              Param #   \n",
      "=================================================================\n",
      "embedding (Embedding)        (None, 66, 6)             119664    \n",
      "_________________________________________________________________\n",
      "spatial_dropout1d (SpatialDr (None, 66, 6)             0         \n",
      "_________________________________________________________________\n",
      "bidirectional (Bidirectional (None, 66, 200)           85600     \n",
      "_________________________________________________________________\n",
      "conv1d (Conv1D)              (None, 66, 256)           409856    \n",
      "_________________________________________________________________\n",
      "leaky_re_lu (LeakyReLU)      (None, 66, 256)           0         \n",
      "_________________________________________________________________\n",
      "max_pooling1d (MaxPooling1D) (None, 16, 256)           0         \n",
      "_________________________________________________________________\n",
      "dropout (Dropout)            (None, 16, 256)           0         \n",
      "_________________________________________________________________\n",
      "conv1d_1 (Conv1D)            (None, 16, 512)           1049088   \n",
      "_________________________________________________________________\n",
      "leaky_re_lu_1 (LeakyReLU)    (None, 16, 512)           0         \n",
      "_________________________________________________________________\n",
      "max_pooling1d_1 (MaxPooling1 (None, 5, 512)            0         \n",
      "_________________________________________________________________\n",
      "dropout_1 (Dropout)          (None, 5, 512)            0         \n",
      "_________________________________________________________________\n",
      "conv1d_2 (Conv1D)            (None, 5, 512)            2097664   \n",
      "_________________________________________________________________\n",
      "leaky_re_lu_2 (LeakyReLU)    (None, 5, 512)            0         \n",
      "_________________________________________________________________\n",
      "max_pooling1d_2 (MaxPooling1 (None, 1, 512)            0         \n",
      "_________________________________________________________________\n",
      "dropout_2 (Dropout)          (None, 1, 512)            0         \n",
      "_________________________________________________________________\n",
      "global_max_pooling1d (Global (None, 512)               0         \n",
      "_________________________________________________________________\n",
      "dense (Dense)                (None, 256)               131328    \n",
      "_________________________________________________________________\n",
      "leaky_re_lu_3 (LeakyReLU)    (None, 256)               0         \n",
      "_________________________________________________________________\n",
      "dense_1 (Dense)              (None, 128)               32896     \n",
      "_________________________________________________________________\n",
      "leaky_re_lu_4 (LeakyReLU)    (None, 128)               0         \n",
      "_________________________________________________________________\n",
      "dense_2 (Dense)              (None, 6)                 774       \n",
      "=================================================================\n",
      "Total params: 3,926,870\n",
      "Trainable params: 3,926,870\n",
      "Non-trainable params: 0\n",
      "_________________________________________________________________\n"
     ]
    },
    {
     "name": "stderr",
     "output_type": "stream",
     "text": [
      "/home/darko/.local/lib/python3.6/site-packages/tensorflow/python/keras/optimizer_v2/optimizer_v2.py:375: UserWarning: The `lr` argument is deprecated, use `learning_rate` instead.\n",
      "  \"The `lr` argument is deprecated, use `learning_rate` instead.\")\n"
     ]
    }
   ],
   "source": [
    "model = create_cnn_lstm_model(word_to_int)\n"
   ]
  },
  {
   "cell_type": "code",
   "execution_count": 12,
   "metadata": {},
   "outputs": [
    {
     "name": "stdout",
     "output_type": "stream",
     "text": [
      "Epoch 1/40\n",
      "1500/1500 [==============================] - 374s 246ms/step - loss: 1.5614 - acc: 0.3397 - val_loss: 1.3549 - val_acc: 0.3947\n",
      "Epoch 2/40\n",
      "1500/1500 [==============================] - 368s 245ms/step - loss: 1.1529 - acc: 0.5327 - val_loss: 0.8134 - val_acc: 0.6813\n",
      "Epoch 3/40\n",
      "1500/1500 [==============================] - 368s 245ms/step - loss: 0.8664 - acc: 0.6568 - val_loss: 0.6759 - val_acc: 0.7263\n",
      "Epoch 4/40\n",
      "1500/1500 [==============================] - 374s 249ms/step - loss: 0.7593 - acc: 0.7083 - val_loss: 0.5964 - val_acc: 0.7723\n",
      "Epoch 5/40\n",
      "1500/1500 [==============================] - 374s 250ms/step - loss: 0.6688 - acc: 0.7519 - val_loss: 0.5763 - val_acc: 0.8247\n",
      "Epoch 6/40\n",
      "1500/1500 [==============================] - 378s 252ms/step - loss: 0.5853 - acc: 0.7895 - val_loss: 0.4953 - val_acc: 0.8320\n",
      "Epoch 7/40\n",
      "1500/1500 [==============================] - 380s 253ms/step - loss: 0.5066 - acc: 0.8240 - val_loss: 0.4281 - val_acc: 0.8557\n",
      "Epoch 8/40\n",
      "1500/1500 [==============================] - 381s 254ms/step - loss: 0.4467 - acc: 0.8438 - val_loss: 0.4025 - val_acc: 0.8707\n",
      "Epoch 9/40\n",
      "1500/1500 [==============================] - 385s 257ms/step - loss: 0.4078 - acc: 0.8543 - val_loss: 0.3781 - val_acc: 0.8807\n",
      "Epoch 10/40\n",
      "1500/1500 [==============================] - 392s 261ms/step - loss: 0.3705 - acc: 0.8748 - val_loss: 0.3480 - val_acc: 0.8823\n",
      "Epoch 11/40\n",
      "1500/1500 [==============================] - 487s 325ms/step - loss: 0.3360 - acc: 0.8854 - val_loss: 0.2974 - val_acc: 0.9020\n",
      "Epoch 12/40\n",
      "1500/1500 [==============================] - 489s 326ms/step - loss: 0.3106 - acc: 0.8939 - val_loss: 0.3126 - val_acc: 0.8993\n",
      "Epoch 13/40\n",
      "1500/1500 [==============================] - 550s 366ms/step - loss: 0.3076 - acc: 0.8953 - val_loss: 0.2800 - val_acc: 0.9020\n",
      "Epoch 14/40\n",
      "1500/1500 [==============================] - 527s 351ms/step - loss: 0.2883 - acc: 0.9014 - val_loss: 0.2732 - val_acc: 0.9090\n",
      "Epoch 15/40\n",
      "1500/1500 [==============================] - 471s 314ms/step - loss: 0.2684 - acc: 0.9100 - val_loss: 0.2712 - val_acc: 0.9090\n",
      "Epoch 16/40\n",
      "1500/1500 [==============================] - 556s 370ms/step - loss: 0.2532 - acc: 0.9133 - val_loss: 0.2847 - val_acc: 0.9050\n",
      "Epoch 17/40\n",
      "1500/1500 [==============================] - 424s 282ms/step - loss: 0.2558 - acc: 0.9142 - val_loss: 0.2921 - val_acc: 0.9077\n",
      "Epoch 18/40\n",
      "1500/1500 [==============================] - 396s 264ms/step - loss: 0.2433 - acc: 0.9178 - val_loss: 0.3090 - val_acc: 0.9097\n",
      "Epoch 19/40\n",
      "1500/1500 [==============================] - 391s 260ms/step - loss: 0.2311 - acc: 0.9197 - val_loss: 0.2908 - val_acc: 0.9100\n",
      "Epoch 20/40\n",
      "1500/1500 [==============================] - 408s 272ms/step - loss: 0.2261 - acc: 0.9219 - val_loss: 0.2619 - val_acc: 0.9113\n",
      "Epoch 21/40\n",
      "1500/1500 [==============================] - 428s 285ms/step - loss: 0.2160 - acc: 0.9243 - val_loss: 0.2835 - val_acc: 0.9053\n",
      "Epoch 22/40\n",
      "1500/1500 [==============================] - 402s 268ms/step - loss: 0.2241 - acc: 0.9245 - val_loss: 0.2898 - val_acc: 0.9027\n",
      "Epoch 23/40\n",
      "1500/1500 [==============================] - 404s 269ms/step - loss: 0.1964 - acc: 0.9314 - val_loss: 0.3081 - val_acc: 0.9003\n",
      "Epoch 24/40\n",
      "1500/1500 [==============================] - 406s 271ms/step - loss: 0.1945 - acc: 0.9346 - val_loss: 0.3314 - val_acc: 0.9083\n",
      "Epoch 25/40\n",
      "1500/1500 [==============================] - 404s 269ms/step - loss: 0.1867 - acc: 0.9333 - val_loss: 0.3198 - val_acc: 0.9090\n",
      "Epoch 26/40\n",
      "1500/1500 [==============================] - 398s 265ms/step - loss: 0.1853 - acc: 0.9352 - val_loss: 0.3163 - val_acc: 0.8953\n",
      "Epoch 27/40\n",
      "1500/1500 [==============================] - 397s 265ms/step - loss: 0.1933 - acc: 0.9348 - val_loss: 0.2784 - val_acc: 0.9073\n",
      "Epoch 28/40\n",
      "1500/1500 [==============================] - 398s 265ms/step - loss: 0.1935 - acc: 0.9359 - val_loss: 0.2721 - val_acc: 0.9113\n",
      "Epoch 29/40\n",
      "1500/1500 [==============================] - 401s 268ms/step - loss: 0.1862 - acc: 0.9379 - val_loss: 0.2903 - val_acc: 0.9033\n",
      "Epoch 30/40\n",
      "1500/1500 [==============================] - 398s 265ms/step - loss: 0.1718 - acc: 0.9417 - val_loss: 0.3094 - val_acc: 0.9087\n",
      "Epoch 31/40\n",
      "1500/1500 [==============================] - 394s 263ms/step - loss: 0.1678 - acc: 0.9432 - val_loss: 0.2835 - val_acc: 0.9067\n",
      "Epoch 32/40\n",
      "1500/1500 [==============================] - 397s 264ms/step - loss: 0.1627 - acc: 0.9441 - val_loss: 0.3230 - val_acc: 0.9033\n",
      "Epoch 33/40\n",
      "1500/1500 [==============================] - 396s 264ms/step - loss: 0.1625 - acc: 0.9452 - val_loss: 0.3112 - val_acc: 0.9040\n",
      "Epoch 34/40\n",
      "1500/1500 [==============================] - 397s 265ms/step - loss: 0.1589 - acc: 0.9457 - val_loss: 0.3008 - val_acc: 0.9073\n",
      "Epoch 35/40\n",
      "1500/1500 [==============================] - 396s 264ms/step - loss: 0.1631 - acc: 0.9441 - val_loss: 0.3147 - val_acc: 0.9040\n",
      "Epoch 36/40\n",
      "1500/1500 [==============================] - 400s 266ms/step - loss: 0.1445 - acc: 0.9513 - val_loss: 0.3843 - val_acc: 0.8910\n",
      "Epoch 37/40\n",
      "1500/1500 [==============================] - 371s 247ms/step - loss: 0.1489 - acc: 0.9488 - val_loss: 0.3807 - val_acc: 0.8950\n",
      "Epoch 38/40\n",
      "1500/1500 [==============================] - 381s 254ms/step - loss: 0.1463 - acc: 0.9511 - val_loss: 0.3971 - val_acc: 0.8980\n",
      "Epoch 39/40\n",
      "1500/1500 [==============================] - 388s 258ms/step - loss: 0.1533 - acc: 0.9500 - val_loss: 0.3261 - val_acc: 0.8997\n",
      "Epoch 40/40\n",
      "1500/1500 [==============================] - 397s 265ms/step - loss: 0.1493 - acc: 0.9497 - val_loss: 0.4336 - val_acc: 0.8893\n"
     ]
    }
   ],
   "source": [
    "history = model.fit(X_train, y_train, validation_split = 0.2, epochs=40, batch_size=8)"
   ]
  },
  {
   "cell_type": "code",
   "execution_count": 18,
   "metadata": {},
   "outputs": [
    {
     "data": {
      "image/png": "[encoded data removed]",
      "text/plain": [
       "<Figure size 432x288 with 1 Axes>"
      ]
     },
     "metadata": {
      "needs_background": "light"
     },
     "output_type": "display_data"
    }
   ],
   "source": [
    "import matplotlib.pyplot as plt\n",
    "\n",
    "plt.plot(history.history['acc'])\n",
    "plt.plot(history.history['val_acc'])\n",
    "plt.title('model accuracy')\n",
    "plt.ylabel('accuracy')\n",
    "plt.xlabel('epoch')\n",
    "plt.legend(['train', 'validation'])\n",
    "plt.show()"
   ]
  },
  {
   "cell_type": "code",
   "execution_count": 111,
   "metadata": {},
   "outputs": [
    {
     "name": "stdout",
     "output_type": "stream",
     "text": [
      "Emotion count {'sadness': 6265, 'anger': 2993, 'love': 1641, 'surprise': 879, 'fear': 2652, 'happy': 7029}\n",
      "Confusion matrix\n",
      "[[ 138   39   48   31   37   44]\n",
      " [   5 1600  140   48   76   16]\n",
      " [   5  139  734   37   38   16]\n",
      " [   3  108   99 1671  105    7]\n",
      " [   2    9    6   47  362    0]\n",
      " [  32  105  197   31   27  457]]\n"
     ]
    }
   ],
   "source": [
    "%run Auxiliary.ipynb\n",
    "columns = list(emotion_set)\n",
    "\n",
    "emotion_list = list(emotion_set)\n",
    "model_evaluation(X_test, y_test, model, columns, word_to_int, emotion_list)"
   ]
  },
  {
   "cell_type": "code",
   "execution_count": 109,
   "metadata": {},
   "outputs": [],
   "source": [
    "def predict_my_text(text, model, sequence_length, word_to_int, emotion_map):\n",
    "        mapped_text = []\n",
    "        for word in text.split():\n",
    "            mapped_text.append(word_to_int(word))\n",
    "        \n",
    "        emotion = model.predict(emotion);\n",
    "    \n",
    "    \n",
    "#Now we create sequences of same length\n",
    "sequences = np.zeros((len(mapped_texts), sequence_length), dtype = int)\n",
    "\n",
    "for i, row in enumerate(mapped_texts):\n",
    "    text_arr = np.array(row)\n",
    "    sequences[i, -len(row):] = text_arr[-sequence_length :]\n",
    "\n",
    "print(\"We transformed \", mapped_texts[0], \" into => \\n\", sequences[0])\n",
    "    "
   ]
  },
  {
   "cell_type": "code",
   "execution_count": 110,
   "metadata": {},
   "outputs": [
    {
     "name": "stdout",
     "output_type": "stream",
     "text": [
      "[1, 13, 12]\n"
     ]
    }
   ],
   "source": [
    "my_text = \"i like it\"\n",
    "predict_my_text(my_text, model, sequence_length, word_to_int, emotion_map)"
   ]
  },
  {
   "cell_type": "code",
   "execution_count": null,
   "metadata": {},
   "outputs": [],
   "source": []
  }
 ],
 "metadata": {
  "kernelspec": {
   "display_name": "Python 3",
   "language": "python",
   "name": "python3"
  },
  "language_info": {
   "codemirror_mode": {
    "name": "ipython",
    "version": 3
   },
   "file_extension": ".py",
   "mimetype": "text/x-python",
   "name": "python",
   "nbconvert_exporter": "python",
   "pygments_lexer": "ipython3",
   "version": "3.6.9"
  }
 },
 "nbformat": 4,
 "nbformat_minor": 2
}
